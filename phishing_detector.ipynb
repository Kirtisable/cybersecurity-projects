{
  "cells": [
    {
      "cell_type": "markdown",
      "metadata": {
        "id": "view-in-github",
        "colab_type": "text"
      },
      "source": [
        "<a href=\"https://colab.research.google.com/github/Kirtisable/cybersecurity-projects/blob/main/phishing_detector.ipynb\" target=\"_parent\"><img src=\"https://colab.research.google.com/assets/colab-badge.svg\" alt=\"Open In Colab\"/></a>"
      ]
    },
    {
      "cell_type": "markdown",
      "source": [
        "### 🙏🏻 welcome in phishing URL detector\n"
      ],
      "metadata": {
        "id": "-ViRAQUa7Qio"
      },
      "id": "-ViRAQUa7Qio"
    },
    {
      "cell_type": "code",
      "execution_count": 1,
      "id": "36795a61-72c0-45f1-8f2e-848cd2448570",
      "metadata": {
        "colab": {
          "base_uri": "https://localhost:8080/"
        },
        "id": "36795a61-72c0-45f1-8f2e-848cd2448570",
        "outputId": "926978e5-bf9f-4112-839c-4963fa69b2e4"
      },
      "outputs": [
        {
          "output_type": "stream",
          "name": "stdout",
          "text": [
            "Hello\n"
          ]
        }
      ],
      "source": [
        "print(\"Hello\")\n"
      ]
    },
    {
      "cell_type": "markdown",
      "source": [
        "## Install Required Libraries"
      ],
      "metadata": {
        "id": "NlUc9SJ97FUl"
      },
      "id": "NlUc9SJ97FUl"
    },
    {
      "cell_type": "code",
      "execution_count": null,
      "id": "114aad2b-8dc5-4ad4-9a94-a8f1233b9a77",
      "metadata": {
        "id": "114aad2b-8dc5-4ad4-9a94-a8f1233b9a77",
        "outputId": "810ce14b-c9a6-4b1b-bb8f-9c59417c6873"
      },
      "outputs": [
        {
          "name": "stdout",
          "output_type": "stream",
          "text": [
            "Requirement already satisfied: pandas in /opt/anaconda3/lib/python3.11/site-packages (2.1.4)\n",
            "Requirement already satisfied: scikit-learn in /opt/anaconda3/lib/python3.11/site-packages (1.2.2)\n",
            "Requirement already satisfied: matplotlib in /opt/anaconda3/lib/python3.11/site-packages (3.8.0)\n",
            "Requirement already satisfied: numpy<2,>=1.23.2 in /opt/anaconda3/lib/python3.11/site-packages (from pandas) (1.26.4)\n",
            "Requirement already satisfied: python-dateutil>=2.8.2 in /opt/anaconda3/lib/python3.11/site-packages (from pandas) (2.8.2)\n",
            "Requirement already satisfied: pytz>=2020.1 in /opt/anaconda3/lib/python3.11/site-packages (from pandas) (2023.3.post1)\n",
            "Requirement already satisfied: tzdata>=2022.1 in /opt/anaconda3/lib/python3.11/site-packages (from pandas) (2023.3)\n",
            "Requirement already satisfied: scipy>=1.3.2 in /opt/anaconda3/lib/python3.11/site-packages (from scikit-learn) (1.11.4)\n",
            "Requirement already satisfied: joblib>=1.1.1 in /opt/anaconda3/lib/python3.11/site-packages (from scikit-learn) (1.2.0)\n",
            "Requirement already satisfied: threadpoolctl>=2.0.0 in /opt/anaconda3/lib/python3.11/site-packages (from scikit-learn) (2.2.0)\n",
            "Requirement already satisfied: contourpy>=1.0.1 in /opt/anaconda3/lib/python3.11/site-packages (from matplotlib) (1.2.0)\n",
            "Requirement already satisfied: cycler>=0.10 in /opt/anaconda3/lib/python3.11/site-packages (from matplotlib) (0.11.0)\n",
            "Requirement already satisfied: fonttools>=4.22.0 in /opt/anaconda3/lib/python3.11/site-packages (from matplotlib) (4.25.0)\n",
            "Requirement already satisfied: kiwisolver>=1.0.1 in /opt/anaconda3/lib/python3.11/site-packages (from matplotlib) (1.4.4)\n",
            "Requirement already satisfied: packaging>=20.0 in /opt/anaconda3/lib/python3.11/site-packages (from matplotlib) (23.1)\n",
            "Requirement already satisfied: pillow>=6.2.0 in /opt/anaconda3/lib/python3.11/site-packages (from matplotlib) (10.2.0)\n",
            "Requirement already satisfied: pyparsing>=2.3.1 in /opt/anaconda3/lib/python3.11/site-packages (from matplotlib) (3.0.9)\n",
            "Requirement already satisfied: six>=1.5 in /opt/anaconda3/lib/python3.11/site-packages (from python-dateutil>=2.8.2->pandas) (1.16.0)\n",
            "Note: you may need to restart the kernel to use updated packages.\n"
          ]
        }
      ],
      "source": [
        "pip install pandas scikit-learn matplotlib\n"
      ]
    },
    {
      "cell_type": "markdown",
      "source": [
        "# Install and Load the UCI Dataset\n",
        "\n",
        "I’ll use the PhiUSIIL Phishing URL Dataset, which is publicly available and easy to import directly into Python."
      ],
      "metadata": {
        "id": "HUyY0j8B35dk"
      },
      "id": "HUyY0j8B35dk"
    },
    {
      "cell_type": "code",
      "execution_count": null,
      "id": "30502327-392e-4d82-9325-72e8332f4910",
      "metadata": {
        "id": "30502327-392e-4d82-9325-72e8332f4910",
        "outputId": "d2586495-7166-43a6-e3fd-e42dd577aeb3"
      },
      "outputs": [
        {
          "name": "stdout",
          "output_type": "stream",
          "text": [
            "Collecting ucimlrepo\n",
            "  Downloading ucimlrepo-0.0.7-py3-none-any.whl.metadata (5.5 kB)\n",
            "Requirement already satisfied: pandas>=1.0.0 in /opt/anaconda3/lib/python3.11/site-packages (from ucimlrepo) (2.1.4)\n",
            "Requirement already satisfied: certifi>=2020.12.5 in /opt/anaconda3/lib/python3.11/site-packages (from ucimlrepo) (2024.6.2)\n",
            "Requirement already satisfied: numpy<2,>=1.23.2 in /opt/anaconda3/lib/python3.11/site-packages (from pandas>=1.0.0->ucimlrepo) (1.26.4)\n",
            "Requirement already satisfied: python-dateutil>=2.8.2 in /opt/anaconda3/lib/python3.11/site-packages (from pandas>=1.0.0->ucimlrepo) (2.8.2)\n",
            "Requirement already satisfied: pytz>=2020.1 in /opt/anaconda3/lib/python3.11/site-packages (from pandas>=1.0.0->ucimlrepo) (2023.3.post1)\n",
            "Requirement already satisfied: tzdata>=2022.1 in /opt/anaconda3/lib/python3.11/site-packages (from pandas>=1.0.0->ucimlrepo) (2023.3)\n",
            "Requirement already satisfied: six>=1.5 in /opt/anaconda3/lib/python3.11/site-packages (from python-dateutil>=2.8.2->pandas>=1.0.0->ucimlrepo) (1.16.0)\n",
            "Downloading ucimlrepo-0.0.7-py3-none-any.whl (8.0 kB)\n",
            "Installing collected packages: ucimlrepo\n",
            "Successfully installed ucimlrepo-0.0.7\n",
            "Note: you may need to restart the kernel to use updated packages.\n"
          ]
        }
      ],
      "source": [
        "pip install ucimlrepo\n"
      ]
    },
    {
      "cell_type": "markdown",
      "source": [
        "# Load Dataset"
      ],
      "metadata": {
        "id": "TTg5QQ_F4OqQ"
      },
      "id": "TTg5QQ_F4OqQ"
    },
    {
      "cell_type": "code",
      "execution_count": null,
      "id": "7d089e9c-bb20-4430-b2b5-edb7ba393c70",
      "metadata": {
        "id": "7d089e9c-bb20-4430-b2b5-edb7ba393c70",
        "outputId": "9db5c737-267c-486e-9326-007463adad7c"
      },
      "outputs": [
        {
          "data": {
            "text/html": [
              "<div>\n",
              "<style scoped>\n",
              "    .dataframe tbody tr th:only-of-type {\n",
              "        vertical-align: middle;\n",
              "    }\n",
              "\n",
              "    .dataframe tbody tr th {\n",
              "        vertical-align: top;\n",
              "    }\n",
              "\n",
              "    .dataframe thead th {\n",
              "        text-align: right;\n",
              "    }\n",
              "</style>\n",
              "<table border=\"1\" class=\"dataframe\">\n",
              "  <thead>\n",
              "    <tr style=\"text-align: right;\">\n",
              "      <th></th>\n",
              "      <th>URL</th>\n",
              "      <th>URLLength</th>\n",
              "      <th>Domain</th>\n",
              "      <th>DomainLength</th>\n",
              "      <th>IsDomainIP</th>\n",
              "      <th>TLD</th>\n",
              "      <th>URLSimilarityIndex</th>\n",
              "      <th>CharContinuationRate</th>\n",
              "      <th>TLDLegitimateProb</th>\n",
              "      <th>URLCharProb</th>\n",
              "      <th>...</th>\n",
              "      <th>Pay</th>\n",
              "      <th>Crypto</th>\n",
              "      <th>HasCopyrightInfo</th>\n",
              "      <th>NoOfImage</th>\n",
              "      <th>NoOfCSS</th>\n",
              "      <th>NoOfJS</th>\n",
              "      <th>NoOfSelfRef</th>\n",
              "      <th>NoOfEmptyRef</th>\n",
              "      <th>NoOfExternalRef</th>\n",
              "      <th>label</th>\n",
              "    </tr>\n",
              "  </thead>\n",
              "  <tbody>\n",
              "    <tr>\n",
              "      <th>0</th>\n",
              "      <td>https://www.southbankmosaics.com</td>\n",
              "      <td>31</td>\n",
              "      <td>www.southbankmosaics.com</td>\n",
              "      <td>24</td>\n",
              "      <td>0</td>\n",
              "      <td>com</td>\n",
              "      <td>100.0</td>\n",
              "      <td>1.000000</td>\n",
              "      <td>0.522907</td>\n",
              "      <td>0.061933</td>\n",
              "      <td>...</td>\n",
              "      <td>0</td>\n",
              "      <td>0</td>\n",
              "      <td>1</td>\n",
              "      <td>34</td>\n",
              "      <td>20</td>\n",
              "      <td>28</td>\n",
              "      <td>119</td>\n",
              "      <td>0</td>\n",
              "      <td>124</td>\n",
              "      <td>1</td>\n",
              "    </tr>\n",
              "    <tr>\n",
              "      <th>1</th>\n",
              "      <td>https://www.uni-mainz.de</td>\n",
              "      <td>23</td>\n",
              "      <td>www.uni-mainz.de</td>\n",
              "      <td>16</td>\n",
              "      <td>0</td>\n",
              "      <td>de</td>\n",
              "      <td>100.0</td>\n",
              "      <td>0.666667</td>\n",
              "      <td>0.032650</td>\n",
              "      <td>0.050207</td>\n",
              "      <td>...</td>\n",
              "      <td>0</td>\n",
              "      <td>0</td>\n",
              "      <td>1</td>\n",
              "      <td>50</td>\n",
              "      <td>9</td>\n",
              "      <td>8</td>\n",
              "      <td>39</td>\n",
              "      <td>0</td>\n",
              "      <td>217</td>\n",
              "      <td>1</td>\n",
              "    </tr>\n",
              "    <tr>\n",
              "      <th>2</th>\n",
              "      <td>https://www.voicefmradio.co.uk</td>\n",
              "      <td>29</td>\n",
              "      <td>www.voicefmradio.co.uk</td>\n",
              "      <td>22</td>\n",
              "      <td>0</td>\n",
              "      <td>uk</td>\n",
              "      <td>100.0</td>\n",
              "      <td>0.866667</td>\n",
              "      <td>0.028555</td>\n",
              "      <td>0.064129</td>\n",
              "      <td>...</td>\n",
              "      <td>0</td>\n",
              "      <td>0</td>\n",
              "      <td>1</td>\n",
              "      <td>10</td>\n",
              "      <td>2</td>\n",
              "      <td>7</td>\n",
              "      <td>42</td>\n",
              "      <td>2</td>\n",
              "      <td>5</td>\n",
              "      <td>1</td>\n",
              "    </tr>\n",
              "    <tr>\n",
              "      <th>3</th>\n",
              "      <td>https://www.sfnmjournal.com</td>\n",
              "      <td>26</td>\n",
              "      <td>www.sfnmjournal.com</td>\n",
              "      <td>19</td>\n",
              "      <td>0</td>\n",
              "      <td>com</td>\n",
              "      <td>100.0</td>\n",
              "      <td>1.000000</td>\n",
              "      <td>0.522907</td>\n",
              "      <td>0.057606</td>\n",
              "      <td>...</td>\n",
              "      <td>1</td>\n",
              "      <td>1</td>\n",
              "      <td>1</td>\n",
              "      <td>3</td>\n",
              "      <td>27</td>\n",
              "      <td>15</td>\n",
              "      <td>22</td>\n",
              "      <td>1</td>\n",
              "      <td>31</td>\n",
              "      <td>1</td>\n",
              "    </tr>\n",
              "    <tr>\n",
              "      <th>4</th>\n",
              "      <td>https://www.rewildingargentina.org</td>\n",
              "      <td>33</td>\n",
              "      <td>www.rewildingargentina.org</td>\n",
              "      <td>26</td>\n",
              "      <td>0</td>\n",
              "      <td>org</td>\n",
              "      <td>100.0</td>\n",
              "      <td>1.000000</td>\n",
              "      <td>0.079963</td>\n",
              "      <td>0.059441</td>\n",
              "      <td>...</td>\n",
              "      <td>1</td>\n",
              "      <td>0</td>\n",
              "      <td>1</td>\n",
              "      <td>244</td>\n",
              "      <td>15</td>\n",
              "      <td>34</td>\n",
              "      <td>72</td>\n",
              "      <td>1</td>\n",
              "      <td>85</td>\n",
              "      <td>1</td>\n",
              "    </tr>\n",
              "  </tbody>\n",
              "</table>\n",
              "<p>5 rows × 55 columns</p>\n",
              "</div>"
            ],
            "text/plain": [
              "                                  URL  URLLength                      Domain  \\\n",
              "0    https://www.southbankmosaics.com         31    www.southbankmosaics.com   \n",
              "1            https://www.uni-mainz.de         23            www.uni-mainz.de   \n",
              "2      https://www.voicefmradio.co.uk         29      www.voicefmradio.co.uk   \n",
              "3         https://www.sfnmjournal.com         26         www.sfnmjournal.com   \n",
              "4  https://www.rewildingargentina.org         33  www.rewildingargentina.org   \n",
              "\n",
              "   DomainLength  IsDomainIP  TLD  URLSimilarityIndex  CharContinuationRate  \\\n",
              "0            24           0  com               100.0              1.000000   \n",
              "1            16           0   de               100.0              0.666667   \n",
              "2            22           0   uk               100.0              0.866667   \n",
              "3            19           0  com               100.0              1.000000   \n",
              "4            26           0  org               100.0              1.000000   \n",
              "\n",
              "   TLDLegitimateProb  URLCharProb  ...  Pay  Crypto  HasCopyrightInfo  \\\n",
              "0           0.522907     0.061933  ...    0       0                 1   \n",
              "1           0.032650     0.050207  ...    0       0                 1   \n",
              "2           0.028555     0.064129  ...    0       0                 1   \n",
              "3           0.522907     0.057606  ...    1       1                 1   \n",
              "4           0.079963     0.059441  ...    1       0                 1   \n",
              "\n",
              "   NoOfImage  NoOfCSS  NoOfJS  NoOfSelfRef  NoOfEmptyRef  NoOfExternalRef  \\\n",
              "0         34       20      28          119             0              124   \n",
              "1         50        9       8           39             0              217   \n",
              "2         10        2       7           42             2                5   \n",
              "3          3       27      15           22             1               31   \n",
              "4        244       15      34           72             1               85   \n",
              "\n",
              "   label  \n",
              "0      1  \n",
              "1      1  \n",
              "2      1  \n",
              "3      1  \n",
              "4      1  \n",
              "\n",
              "[5 rows x 55 columns]"
            ]
          },
          "execution_count": 7,
          "metadata": {},
          "output_type": "execute_result"
        }
      ],
      "source": [
        "from ucimlrepo import fetch_ucirepo\n",
        "import pandas as pd\n",
        "\n",
        "# Download and load the dataset\n",
        "data = fetch_ucirepo(id=967)\n",
        "X = data.data.features\n",
        "y = data.data.targets\n",
        "\n",
        "# Combine features and labels\n",
        "df = pd.concat([X, y], axis=1)\n",
        "\n",
        "# Check the first few rows\n",
        "df.head()\n"
      ]
    },
    {
      "cell_type": "markdown",
      "source": [
        "# Explore the Data\n"
      ],
      "metadata": {
        "id": "xA61xodn4S53"
      },
      "id": "xA61xodn4S53"
    },
    {
      "cell_type": "code",
      "execution_count": null,
      "id": "d9278624-b3a1-4d7d-8b3d-2c4a2f7d8bac",
      "metadata": {
        "id": "d9278624-b3a1-4d7d-8b3d-2c4a2f7d8bac",
        "outputId": "870cd44c-22b6-4cf2-e358-d01202415e1b"
      },
      "outputs": [
        {
          "data": {
            "text/plain": [
              "URL                           0\n",
              "URLLength                     0\n",
              "Domain                        0\n",
              "DomainLength                  0\n",
              "IsDomainIP                    0\n",
              "TLD                           0\n",
              "URLSimilarityIndex            0\n",
              "CharContinuationRate          0\n",
              "TLDLegitimateProb             0\n",
              "URLCharProb                   0\n",
              "TLDLength                     0\n",
              "NoOfSubDomain                 0\n",
              "HasObfuscation                0\n",
              "NoOfObfuscatedChar            0\n",
              "ObfuscationRatio              0\n",
              "NoOfLettersInURL              0\n",
              "LetterRatioInURL              0\n",
              "NoOfDegitsInURL               0\n",
              "DegitRatioInURL               0\n",
              "NoOfEqualsInURL               0\n",
              "NoOfQMarkInURL                0\n",
              "NoOfAmpersandInURL            0\n",
              "NoOfOtherSpecialCharsInURL    0\n",
              "SpacialCharRatioInURL         0\n",
              "IsHTTPS                       0\n",
              "LineOfCode                    0\n",
              "LargestLineLength             0\n",
              "HasTitle                      0\n",
              "Title                         0\n",
              "DomainTitleMatchScore         0\n",
              "URLTitleMatchScore            0\n",
              "HasFavicon                    0\n",
              "Robots                        0\n",
              "IsResponsive                  0\n",
              "NoOfURLRedirect               0\n",
              "NoOfSelfRedirect              0\n",
              "HasDescription                0\n",
              "NoOfPopup                     0\n",
              "NoOfiFrame                    0\n",
              "HasExternalFormSubmit         0\n",
              "HasSocialNet                  0\n",
              "HasSubmitButton               0\n",
              "HasHiddenFields               0\n",
              "HasPasswordField              0\n",
              "Bank                          0\n",
              "Pay                           0\n",
              "Crypto                        0\n",
              "HasCopyrightInfo              0\n",
              "NoOfImage                     0\n",
              "NoOfCSS                       0\n",
              "NoOfJS                        0\n",
              "NoOfSelfRef                   0\n",
              "NoOfEmptyRef                  0\n",
              "NoOfExternalRef               0\n",
              "label                         0\n",
              "dtype: int64"
            ]
          },
          "execution_count": 15,
          "metadata": {},
          "output_type": "execute_result"
        }
      ],
      "source": [
        "df.shape           # Rows, columns\n",
        "df.columns         # Feature list + label\n",
        "df['label'].value_counts()  # Ratio of phishing vs legit\n",
        "df.isnull().sum()  # Check for missing values\n"
      ]
    },
    {
      "cell_type": "markdown",
      "source": [
        "# Feature Extraction\n",
        "Now we’ll extract simple, meaningful features from each URL to help our machine learning model detect phishing websites.\n",
        "\n",
        "## 🎯 What are Features?\n",
        "Features are patterns or clues we extract from URLs. For example:\n",
        "\n",
        "Is the URL too long?\n",
        "\n",
        "Does it contain an \"@\" symbol?\n",
        "\n",
        "Does it have “https”?\n",
        "\n",
        "Is there an IP address in the URL?\n",
        "\n",
        "These features help the model learn what a phishing URL looks like."
      ],
      "metadata": {
        "id": "EdcYyF0V4bNn"
      },
      "id": "EdcYyF0V4bNn"
    },
    {
      "cell_type": "markdown",
      "source": [
        "# Step 1: Add New Columns (Features)"
      ],
      "metadata": {
        "id": "HkOwSHWK40_p"
      },
      "id": "HkOwSHWK40_p"
    },
    {
      "cell_type": "code",
      "execution_count": null,
      "id": "9722be0e-25dd-419e-8cc5-37b9c6572684",
      "metadata": {
        "id": "9722be0e-25dd-419e-8cc5-37b9c6572684"
      },
      "outputs": [],
      "source": [
        "import re\n",
        "\n",
        "# Function to check if IP address is present\n",
        "def has_ip(url):\n",
        "    return 1 if re.match(r\"http[s]?://\\d+\\.\\d+\\.\\d+\\.\\d+\", url) else 0\n",
        "\n",
        "# Function to check if '@' is in the URL\n",
        "def has_at_symbol(url):\n",
        "    return 1 if \"@\" in url else 0\n",
        "\n",
        "# Function to get length of the URL\n",
        "def url_length(url):\n",
        "    return len(url)\n",
        "\n",
        "# Function to check if '-' is in the domain\n",
        "def has_dash(url):\n",
        "    return 1 if \"-\" in url else 0\n",
        "\n",
        "# Function to check if 'https' is used\n",
        "def has_https(url):\n",
        "    return 1 if \"https\" in url else 0\n"
      ]
    },
    {
      "cell_type": "markdown",
      "source": [
        "# Step 2: Apply Functions to Dataset\n",
        "Let’s say your dataset has a column 'URL' or 'url'. Use the correct one."
      ],
      "metadata": {
        "id": "3GsIg-kD4u_O"
      },
      "id": "3GsIg-kD4u_O"
    },
    {
      "cell_type": "code",
      "execution_count": null,
      "id": "12608928-99df-452a-a428-cafd4720be41",
      "metadata": {
        "id": "12608928-99df-452a-a428-cafd4720be41"
      },
      "outputs": [],
      "source": [
        "df['have_ip'] = df['URL'].apply(has_ip)\n",
        "df['have_at'] = df['URL'].apply(has_at_symbol)\n",
        "df['url_length'] = df['URL'].apply(url_length)\n",
        "df['have_dash'] = df['URL'].apply(has_dash)\n",
        "df['have_https'] = df['URL'].apply(has_https)"
      ]
    },
    {
      "cell_type": "markdown",
      "source": [
        "# 🔎 Step 3: View New Features"
      ],
      "metadata": {
        "id": "ty3EVDAX5BeE"
      },
      "id": "ty3EVDAX5BeE"
    },
    {
      "cell_type": "code",
      "execution_count": null,
      "id": "3880b0ab-a603-4876-86ff-ff885f7e9a62",
      "metadata": {
        "id": "3880b0ab-a603-4876-86ff-ff885f7e9a62",
        "outputId": "ad5a429c-8a3c-4e82-d91d-59f78e9170fa"
      },
      "outputs": [
        {
          "data": {
            "text/html": [
              "<div>\n",
              "<style scoped>\n",
              "    .dataframe tbody tr th:only-of-type {\n",
              "        vertical-align: middle;\n",
              "    }\n",
              "\n",
              "    .dataframe tbody tr th {\n",
              "        vertical-align: top;\n",
              "    }\n",
              "\n",
              "    .dataframe thead th {\n",
              "        text-align: right;\n",
              "    }\n",
              "</style>\n",
              "<table border=\"1\" class=\"dataframe\">\n",
              "  <thead>\n",
              "    <tr style=\"text-align: right;\">\n",
              "      <th></th>\n",
              "      <th>URL</th>\n",
              "      <th>have_ip</th>\n",
              "      <th>have_at</th>\n",
              "      <th>url_length</th>\n",
              "      <th>have_dash</th>\n",
              "      <th>have_https</th>\n",
              "    </tr>\n",
              "  </thead>\n",
              "  <tbody>\n",
              "    <tr>\n",
              "      <th>0</th>\n",
              "      <td>https://www.southbankmosaics.com</td>\n",
              "      <td>0</td>\n",
              "      <td>0</td>\n",
              "      <td>32</td>\n",
              "      <td>0</td>\n",
              "      <td>1</td>\n",
              "    </tr>\n",
              "    <tr>\n",
              "      <th>1</th>\n",
              "      <td>https://www.uni-mainz.de</td>\n",
              "      <td>0</td>\n",
              "      <td>0</td>\n",
              "      <td>24</td>\n",
              "      <td>1</td>\n",
              "      <td>1</td>\n",
              "    </tr>\n",
              "    <tr>\n",
              "      <th>2</th>\n",
              "      <td>https://www.voicefmradio.co.uk</td>\n",
              "      <td>0</td>\n",
              "      <td>0</td>\n",
              "      <td>30</td>\n",
              "      <td>0</td>\n",
              "      <td>1</td>\n",
              "    </tr>\n",
              "    <tr>\n",
              "      <th>3</th>\n",
              "      <td>https://www.sfnmjournal.com</td>\n",
              "      <td>0</td>\n",
              "      <td>0</td>\n",
              "      <td>27</td>\n",
              "      <td>0</td>\n",
              "      <td>1</td>\n",
              "    </tr>\n",
              "    <tr>\n",
              "      <th>4</th>\n",
              "      <td>https://www.rewildingargentina.org</td>\n",
              "      <td>0</td>\n",
              "      <td>0</td>\n",
              "      <td>34</td>\n",
              "      <td>0</td>\n",
              "      <td>1</td>\n",
              "    </tr>\n",
              "  </tbody>\n",
              "</table>\n",
              "</div>"
            ],
            "text/plain": [
              "                                  URL  have_ip  have_at  url_length  \\\n",
              "0    https://www.southbankmosaics.com        0        0          32   \n",
              "1            https://www.uni-mainz.de        0        0          24   \n",
              "2      https://www.voicefmradio.co.uk        0        0          30   \n",
              "3         https://www.sfnmjournal.com        0        0          27   \n",
              "4  https://www.rewildingargentina.org        0        0          34   \n",
              "\n",
              "   have_dash  have_https  \n",
              "0          0           1  \n",
              "1          1           1  \n",
              "2          0           1  \n",
              "3          0           1  \n",
              "4          0           1  "
            ]
          },
          "execution_count": 25,
          "metadata": {},
          "output_type": "execute_result"
        }
      ],
      "source": [
        "df[['URL', 'have_ip', 'have_at', 'url_length', 'have_dash', 'have_https']].head()"
      ]
    },
    {
      "cell_type": "markdown",
      "source": [
        "# Train Your First Machine Learning Model"
      ],
      "metadata": {
        "id": "EsQ_HUO15DvH"
      },
      "id": "EsQ_HUO15DvH"
    },
    {
      "cell_type": "markdown",
      "source": [
        "## ✅ Step 1: Select Features and Target\n",
        "Pick the features you just created and the label (e.g., 'Label', 'Result', or whatever your target column is)."
      ],
      "metadata": {
        "id": "pw5DoofL5S92"
      },
      "id": "pw5DoofL5S92"
    },
    {
      "cell_type": "code",
      "execution_count": null,
      "id": "9ccc089b-f3f4-4050-8c13-df8d8e0aedce",
      "metadata": {
        "id": "9ccc089b-f3f4-4050-8c13-df8d8e0aedce"
      },
      "outputs": [],
      "source": [
        "# Features\n",
        "X = df[['have_ip', 'have_at', 'url_length', 'have_dash', 'have_https']]\n",
        "\n",
        "# Target\n",
        "y = df['label']  # Replace with actual label column name if different"
      ]
    },
    {
      "cell_type": "markdown",
      "source": [
        "## ✅ Step 2: Split Data (Train/Test)"
      ],
      "metadata": {
        "id": "h0zfAJ4J5bNs"
      },
      "id": "h0zfAJ4J5bNs"
    },
    {
      "cell_type": "code",
      "execution_count": null,
      "id": "e21e8711-a8ce-48b3-918b-11d73f31ca67",
      "metadata": {
        "id": "e21e8711-a8ce-48b3-918b-11d73f31ca67"
      },
      "outputs": [],
      "source": [
        "from sklearn.model_selection import train_test_split\n",
        "\n",
        "# Split 80% training, 20% testing\n",
        "X_train, X_test, y_train, y_test = train_test_split(X, y, test_size=0.2, random_state=42)"
      ]
    },
    {
      "cell_type": "markdown",
      "source": [
        "## ✅ Step 3: Train a Random Forest Model"
      ],
      "metadata": {
        "id": "jxzxHGim5gG9"
      },
      "id": "jxzxHGim5gG9"
    },
    {
      "cell_type": "code",
      "execution_count": null,
      "id": "0a8e8043-6c68-4f57-a089-45d79421a07e",
      "metadata": {
        "id": "0a8e8043-6c68-4f57-a089-45d79421a07e",
        "outputId": "dd337e66-eb21-44a1-d569-3a0188181bf0"
      },
      "outputs": [
        {
          "data": {
            "text/html": [
              "<style>#sk-container-id-1 {color: black;background-color: white;}#sk-container-id-1 pre{padding: 0;}#sk-container-id-1 div.sk-toggleable {background-color: white;}#sk-container-id-1 label.sk-toggleable__label {cursor: pointer;display: block;width: 100%;margin-bottom: 0;padding: 0.3em;box-sizing: border-box;text-align: center;}#sk-container-id-1 label.sk-toggleable__label-arrow:before {content: \"▸\";float: left;margin-right: 0.25em;color: #696969;}#sk-container-id-1 label.sk-toggleable__label-arrow:hover:before {color: black;}#sk-container-id-1 div.sk-estimator:hover label.sk-toggleable__label-arrow:before {color: black;}#sk-container-id-1 div.sk-toggleable__content {max-height: 0;max-width: 0;overflow: hidden;text-align: left;background-color: #f0f8ff;}#sk-container-id-1 div.sk-toggleable__content pre {margin: 0.2em;color: black;border-radius: 0.25em;background-color: #f0f8ff;}#sk-container-id-1 input.sk-toggleable__control:checked~div.sk-toggleable__content {max-height: 200px;max-width: 100%;overflow: auto;}#sk-container-id-1 input.sk-toggleable__control:checked~label.sk-toggleable__label-arrow:before {content: \"▾\";}#sk-container-id-1 div.sk-estimator input.sk-toggleable__control:checked~label.sk-toggleable__label {background-color: #d4ebff;}#sk-container-id-1 div.sk-label input.sk-toggleable__control:checked~label.sk-toggleable__label {background-color: #d4ebff;}#sk-container-id-1 input.sk-hidden--visually {border: 0;clip: rect(1px 1px 1px 1px);clip: rect(1px, 1px, 1px, 1px);height: 1px;margin: -1px;overflow: hidden;padding: 0;position: absolute;width: 1px;}#sk-container-id-1 div.sk-estimator {font-family: monospace;background-color: #f0f8ff;border: 1px dotted black;border-radius: 0.25em;box-sizing: border-box;margin-bottom: 0.5em;}#sk-container-id-1 div.sk-estimator:hover {background-color: #d4ebff;}#sk-container-id-1 div.sk-parallel-item::after {content: \"\";width: 100%;border-bottom: 1px solid gray;flex-grow: 1;}#sk-container-id-1 div.sk-label:hover label.sk-toggleable__label {background-color: #d4ebff;}#sk-container-id-1 div.sk-serial::before {content: \"\";position: absolute;border-left: 1px solid gray;box-sizing: border-box;top: 0;bottom: 0;left: 50%;z-index: 0;}#sk-container-id-1 div.sk-serial {display: flex;flex-direction: column;align-items: center;background-color: white;padding-right: 0.2em;padding-left: 0.2em;position: relative;}#sk-container-id-1 div.sk-item {position: relative;z-index: 1;}#sk-container-id-1 div.sk-parallel {display: flex;align-items: stretch;justify-content: center;background-color: white;position: relative;}#sk-container-id-1 div.sk-item::before, #sk-container-id-1 div.sk-parallel-item::before {content: \"\";position: absolute;border-left: 1px solid gray;box-sizing: border-box;top: 0;bottom: 0;left: 50%;z-index: -1;}#sk-container-id-1 div.sk-parallel-item {display: flex;flex-direction: column;z-index: 1;position: relative;background-color: white;}#sk-container-id-1 div.sk-parallel-item:first-child::after {align-self: flex-end;width: 50%;}#sk-container-id-1 div.sk-parallel-item:last-child::after {align-self: flex-start;width: 50%;}#sk-container-id-1 div.sk-parallel-item:only-child::after {width: 0;}#sk-container-id-1 div.sk-dashed-wrapped {border: 1px dashed gray;margin: 0 0.4em 0.5em 0.4em;box-sizing: border-box;padding-bottom: 0.4em;background-color: white;}#sk-container-id-1 div.sk-label label {font-family: monospace;font-weight: bold;display: inline-block;line-height: 1.2em;}#sk-container-id-1 div.sk-label-container {text-align: center;}#sk-container-id-1 div.sk-container {/* jupyter's `normalize.less` sets `[hidden] { display: none; }` but bootstrap.min.css set `[hidden] { display: none !important; }` so we also need the `!important` here to be able to override the default hidden behavior on the sphinx rendered scikit-learn.org. See: https://github.com/scikit-learn/scikit-learn/issues/21755 */display: inline-block !important;position: relative;}#sk-container-id-1 div.sk-text-repr-fallback {display: none;}</style><div id=\"sk-container-id-1\" class=\"sk-top-container\"><div class=\"sk-text-repr-fallback\"><pre>RandomForestClassifier()</pre><b>In a Jupyter environment, please rerun this cell to show the HTML representation or trust the notebook. <br />On GitHub, the HTML representation is unable to render, please try loading this page with nbviewer.org.</b></div><div class=\"sk-container\" hidden><div class=\"sk-item\"><div class=\"sk-estimator sk-toggleable\"><input class=\"sk-toggleable__control sk-hidden--visually\" id=\"sk-estimator-id-1\" type=\"checkbox\" checked><label for=\"sk-estimator-id-1\" class=\"sk-toggleable__label sk-toggleable__label-arrow\">RandomForestClassifier</label><div class=\"sk-toggleable__content\"><pre>RandomForestClassifier()</pre></div></div></div></div></div>"
            ],
            "text/plain": [
              "RandomForestClassifier()"
            ]
          },
          "execution_count": 35,
          "metadata": {},
          "output_type": "execute_result"
        }
      ],
      "source": [
        "from sklearn.ensemble import RandomForestClassifier\n",
        "\n",
        "# Initialize model\n",
        "model = RandomForestClassifier()\n",
        "\n",
        "# Train it\n",
        "model.fit(X_train, y_train)"
      ]
    },
    {
      "cell_type": "markdown",
      "source": [
        "## ✅ Step 4: Test the Model"
      ],
      "metadata": {
        "id": "wWfJhweL5lXc"
      },
      "id": "wWfJhweL5lXc"
    },
    {
      "cell_type": "code",
      "execution_count": null,
      "id": "91fe55fe-33f3-4a6f-97c5-43b95bf706a8",
      "metadata": {
        "id": "91fe55fe-33f3-4a6f-97c5-43b95bf706a8"
      },
      "outputs": [],
      "source": [
        "# Predict on test set\n",
        "y_pred = model.predict(X_test)"
      ]
    },
    {
      "cell_type": "markdown",
      "source": [
        "## ✅ Step 5: Check Accuracy"
      ],
      "metadata": {
        "id": "7oAe-eNb5pwi"
      },
      "id": "7oAe-eNb5pwi"
    },
    {
      "cell_type": "code",
      "execution_count": null,
      "id": "fc7007b1-1ed3-4d78-bf9e-d9bc36784c1b",
      "metadata": {
        "id": "fc7007b1-1ed3-4d78-bf9e-d9bc36784c1b",
        "outputId": "bd9d2297-785f-4ba7-a4f7-ed745e86c2ad"
      },
      "outputs": [
        {
          "name": "stdout",
          "output_type": "stream",
          "text": [
            "Accuracy: 0.9202273161008503\n",
            "              precision    recall  f1-score   support\n",
            "\n",
            "           0       0.96      0.85      0.90     20124\n",
            "           1       0.90      0.97      0.93     27035\n",
            "\n",
            "    accuracy                           0.92     47159\n",
            "   macro avg       0.93      0.91      0.92     47159\n",
            "weighted avg       0.92      0.92      0.92     47159\n",
            "\n"
          ]
        }
      ],
      "source": [
        "from sklearn.metrics import accuracy_score, classification_report\n",
        "\n",
        "# Print accuracy\n",
        "print(\"Accuracy:\", accuracy_score(y_test, y_pred))\n",
        "\n",
        "# Detailed report\n",
        "print(classification_report(y_test, y_pred))"
      ]
    },
    {
      "cell_type": "markdown",
      "source": [
        "🔥 Fantastic! You just built your first phishing URL detection model with 92% accuracy — that’s an excellent result, especially for a beginner project!"
      ],
      "metadata": {
        "id": "_zaUogPe5tx9"
      },
      "id": "_zaUogPe5tx9"
    },
    {
      "cell_type": "markdown",
      "source": [
        "# Test with Custom URLs\n",
        "Now let’s make your model smarter by testing it on new, unseen URLs — maybe even live URLs you type in yourself."
      ],
      "metadata": {
        "id": "l-5GL3g95204"
      },
      "id": "l-5GL3g95204"
    },
    {
      "cell_type": "markdown",
      "source": [
        "## ✅ Step 1: Define a URL Feature Extractor"
      ],
      "metadata": {
        "id": "TEVwV3e358xF"
      },
      "id": "TEVwV3e358xF"
    },
    {
      "cell_type": "code",
      "execution_count": null,
      "id": "725a3700-ecdb-4ca4-ba46-d88a1b61b5fd",
      "metadata": {
        "id": "725a3700-ecdb-4ca4-ba46-d88a1b61b5fd"
      },
      "outputs": [],
      "source": [
        "#Define a URL Feature Extractor\n",
        "\n",
        "def extract_features_from_url(url):\n",
        "    return {\n",
        "        'have_ip': has_ip(url),\n",
        "        'have_at': has_at_symbol(url),\n",
        "        'url_length': url_length(url),\n",
        "        'have_dash': has_dash(url),\n",
        "        'have_https': has_https(url)\n",
        "    }"
      ]
    },
    {
      "cell_type": "markdown",
      "source": [
        "## ✅ Step 2: Try With a Custom URL"
      ],
      "metadata": {
        "id": "nr4x4yif6CFY"
      },
      "id": "nr4x4yif6CFY"
    },
    {
      "cell_type": "code",
      "execution_count": null,
      "id": "172fee0a-de89-4ec7-b486-c709ba967aba",
      "metadata": {
        "id": "172fee0a-de89-4ec7-b486-c709ba967aba",
        "outputId": "7b733bc6-a704-4025-bb5d-c53d9f394ccc"
      },
      "outputs": [
        {
          "name": "stdout",
          "output_type": "stream",
          "text": [
            "⚠️ Phishing website\n"
          ]
        }
      ],
      "source": [
        "#Try With a Custom URL\n",
        "\n",
        "# Example URL (you can change this!)\n",
        "new_url = \"http://198.51.100.1/login\"\n",
        "\n",
        "# Extract features\n",
        "features = extract_features_from_url(new_url)\n",
        "\n",
        "# Convert to DataFrame for prediction\n",
        "import pandas as pd\n",
        "test_df = pd.DataFrame([features])\n",
        "\n",
        "# Predict\n",
        "prediction = model.predict(test_df)\n",
        "\n",
        "# Result\n",
        "if prediction[0] == 1:\n",
        "    print(\"🔒 Legitimate website\")\n",
        "else:\n",
        "    print(\"⚠️ Phishing website\")\n"
      ]
    },
    {
      "cell_type": "markdown",
      "source": [
        "## examples, like:\n",
        "\n",
        "https://google.com\n",
        "\n",
        "http://paypal.login.verify-now.co\n",
        "\n",
        "https://yourbank.com/login"
      ],
      "metadata": {
        "id": "VWNjs5qo6GvY"
      },
      "id": "VWNjs5qo6GvY"
    },
    {
      "cell_type": "code",
      "execution_count": null,
      "id": "0ec0021e-5a60-4d79-b244-4b9457f68f3d",
      "metadata": {
        "id": "0ec0021e-5a60-4d79-b244-4b9457f68f3d",
        "outputId": "cdced353-d5c7-4745-f885-5e745b3b764c"
      },
      "outputs": [
        {
          "name": "stdout",
          "output_type": "stream",
          "text": [
            "URL: https://google.com\n",
            "Result: 🔒 Legitimate\n",
            "\n",
            "URL: http://198.51.100.1/login\n",
            "Result: ⚠️ Phishing\n"
          ]
        }
      ],
      "source": [
        "import pandas as pd\n",
        "\n",
        "# 🔎 Example 1\n",
        "url1 = \"https://google.com\"\n",
        "features1 = extract_features_from_url(url1)\n",
        "df1 = pd.DataFrame([features1])\n",
        "pred1 = model.predict(df1)\n",
        "\n",
        "print(f\"URL: {url1}\")\n",
        "print(\"Result:\", \"🔒 Legitimate\" if pred1[0] == 1 else \"⚠️ Phishing\")\n",
        "\n",
        "# 🔎 Example 2\n",
        "url2 = \"http://198.51.100.1/login\"\n",
        "features2 = extract_features_from_url(url2)\n",
        "df2 = pd.DataFrame([features2])\n",
        "pred2 = model.predict(df2)\n",
        "\n",
        "print(f\"\\nURL: {url2}\")\n",
        "print(\"Result:\", \"🔒 Legitimate\" if pred2[0] == 1 else \"⚠️ Phishing\")\n"
      ]
    },
    {
      "cell_type": "markdown",
      "source": [
        "project successfully completed 🎉"
      ],
      "metadata": {
        "id": "mCxew0ki6kDS"
      },
      "id": "mCxew0ki6kDS"
    }
  ],
  "metadata": {
    "kernelspec": {
      "display_name": "Python 3 (ipykernel)",
      "language": "python",
      "name": "python3"
    },
    "language_info": {
      "codemirror_mode": {
        "name": "ipython",
        "version": 3
      },
      "file_extension": ".py",
      "mimetype": "text/x-python",
      "name": "python",
      "nbconvert_exporter": "python",
      "pygments_lexer": "ipython3",
      "version": "3.11.7"
    },
    "colab": {
      "provenance": [],
      "include_colab_link": true
    }
  },
  "nbformat": 4,
  "nbformat_minor": 5
}