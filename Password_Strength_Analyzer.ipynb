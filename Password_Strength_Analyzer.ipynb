{
  "nbformat": 4,
  "nbformat_minor": 0,
  "metadata": {
    "colab": {
      "provenance": [],
      "authorship_tag": "ABX9TyOFlrK0DwX9KLeOLe95FofQ",
      "include_colab_link": true
    },
    "kernelspec": {
      "name": "python3",
      "display_name": "Python 3"
    },
    "language_info": {
      "name": "python"
    }
  },
  "cells": [
    {
      "cell_type": "markdown",
      "metadata": {
        "id": "view-in-github",
        "colab_type": "text"
      },
      "source": [
        "<a href=\"https://colab.research.google.com/github/Kirtisable/cybersecurity-projects/blob/main/Password_Strength_Analyzer.ipynb\" target=\"_parent\"><img src=\"https://colab.research.google.com/assets/colab-badge.svg\" alt=\"Open In Colab\"/></a>"
      ]
    },
    {
      "cell_type": "code",
      "execution_count": null,
      "metadata": {
        "id": "ihERL5Bn8Ctx"
      },
      "outputs": [],
      "source": []
    },
    {
      "cell_type": "markdown",
      "source": [
        "Add the Strength Checker Code"
      ],
      "metadata": {
        "id": "Of0U8SV887od"
      }
    },
    {
      "cell_type": "code",
      "source": [
        "import re\n",
        "\n",
        "def check_password_strength(password):\n",
        "    strength = 0\n",
        "    feedback = []\n",
        "\n",
        "    if len(password) >= 8:\n",
        "        strength += 1\n",
        "    else:\n",
        "        feedback.append(\"Password should be at least 8 characters long.\")\n",
        "\n",
        "    if re.search(r\"[A-Z]\", password):\n",
        "        strength += 1\n",
        "    else:\n",
        "        feedback.append(\"Add at least one uppercase letter.\")\n",
        "\n",
        "    if re.search(r\"[a-z]\", password):\n",
        "        strength += 1\n",
        "    else:\n",
        "        feedback.append(\"Add at least one lowercase letter.\")\n",
        "\n",
        "    if re.search(r\"[0-9]\", password):\n",
        "        strength += 1\n",
        "    else:\n",
        "        feedback.append(\"Add at least one number.\")\n",
        "\n",
        "    if re.search(r\"[!@#$%^&*(),.?\\\":{}|<>]\", password):\n",
        "        strength += 1\n",
        "    else:\n",
        "        feedback.append(\"Add at least one special character.\")\n",
        "\n",
        "    return strength, feedback\n"
      ],
      "metadata": {
        "id": "cUbXeTde88q3"
      },
      "execution_count": 1,
      "outputs": []
    },
    {
      "cell_type": "markdown",
      "source": [
        "Test It with Example Passwords"
      ],
      "metadata": {
        "id": "2bo-aOwu9FYH"
      }
    },
    {
      "cell_type": "code",
      "source": [
        "# Try your password here\n",
        "password = \"mns090\"\n",
        "\n",
        "score, tips = check_password_strength(password)\n",
        "\n",
        "print(f\"Password Score: {score} / 5\")\n",
        "print(\"Suggestions to improve:\")\n",
        "for tip in tips:\n",
        "    print(\"•\", tip)"
      ],
      "metadata": {
        "colab": {
          "base_uri": "https://localhost:8080/"
        },
        "id": "j_a2N5Ma9GK5",
        "outputId": "8d86a875-a3fe-4498-92d6-5334e6d87480"
      },
      "execution_count": 4,
      "outputs": [
        {
          "output_type": "stream",
          "name": "stdout",
          "text": [
            "Password Score: 2 / 5\n",
            "Suggestions to improve:\n",
            "• Password should be at least 8 characters long.\n",
            "• Add at least one uppercase letter.\n",
            "• Add at least one special character.\n"
          ]
        }
      ]
    },
    {
      "cell_type": "markdown",
      "source": [
        "add leak detection using a common breached-password list"
      ],
      "metadata": {
        "id": "hW-jwwSQ9MJt"
      }
    },
    {
      "cell_type": "markdown",
      "source": [
        "Check if the password exists in a real-world leaked password list like *rockyou.txt.*\n",
        "\n",
        "This step makes your tool more cybersecurity-focused, not just rule-based.\n",
        "\n",
        "🧠 What is *rockyou.txt*?\n",
        "\n",
        "It's a list of 32+ million passwords leaked in real hacks.\n",
        "\n",
        "Used by hackers for brute-force attacks.\n",
        "\n",
        "We’ll use a small version so it works easily in Colab.\n",
        "\n"
      ],
      "metadata": {
        "id": "twRORby-97EB"
      }
    },
    {
      "cell_type": "markdown",
      "source": [
        "## 🛠 Step 1: Download a Mini Leak File (Safe Version)"
      ],
      "metadata": {
        "id": "xVBriYrP-TQl"
      }
    },
    {
      "cell_type": "code",
      "source": [
        "# Download a small sample leak list\n",
        "!wget https://raw.githubusercontent.com/danielmiessler/SecLists/master/Passwords/Common-Credentials/10k-most-common.txt -O leaked_passwords.txt\n"
      ],
      "metadata": {
        "colab": {
          "base_uri": "https://localhost:8080/"
        },
        "id": "8l49X6tx9ykM",
        "outputId": "0c8babdd-f2ca-49db-d933-5a5ecee3dc09"
      },
      "execution_count": 5,
      "outputs": [
        {
          "output_type": "stream",
          "name": "stdout",
          "text": [
            "--2025-06-13 15:47:25--  https://raw.githubusercontent.com/danielmiessler/SecLists/master/Passwords/Common-Credentials/10k-most-common.txt\n",
            "Resolving raw.githubusercontent.com (raw.githubusercontent.com)... 185.199.108.133, 185.199.109.133, 185.199.110.133, ...\n",
            "Connecting to raw.githubusercontent.com (raw.githubusercontent.com)|185.199.108.133|:443... connected.\n",
            "HTTP request sent, awaiting response... 200 OK\n",
            "Length: 73017 (71K) [text/plain]\n",
            "Saving to: ‘leaked_passwords.txt’\n",
            "\n",
            "\rleaked_passwords.tx   0%[                    ]       0  --.-KB/s               \rleaked_passwords.tx 100%[===================>]  71.31K  --.-KB/s    in 0.02s   \n",
            "\n",
            "2025-06-13 15:47:25 (3.03 MB/s) - ‘leaked_passwords.txt’ saved [73017/73017]\n",
            "\n"
          ]
        }
      ]
    },
    {
      "cell_type": "markdown",
      "source": [
        "## 🛠 Step 2: Update Your Function to Check for Breached Passwords"
      ],
      "metadata": {
        "id": "DPd2n5yq-bA2"
      }
    },
    {
      "cell_type": "code",
      "source": [
        "# Load leaked passwords from file\n",
        "def load_leaked_passwords():\n",
        "    with open(\"leaked_passwords.txt\", \"r\", encoding='latin-1') as file:\n",
        "        return set(line.strip() for line in file)\n",
        "\n",
        "leaked_passwords = load_leaked_passwords()"
      ],
      "metadata": {
        "id": "2I-ukLBy-c8Q"
      },
      "execution_count": 6,
      "outputs": []
    },
    {
      "cell_type": "markdown",
      "source": [
        "## 🛠 Step 3: Add Breach Check to Your Analyzer\n",
        "Update your check_password_strength() function like this:"
      ],
      "metadata": {
        "id": "oZKWU_ta-kKe"
      }
    },
    {
      "cell_type": "code",
      "source": [
        "def check_password_strength(password):\n",
        "    strength = 0\n",
        "    feedback = []\n",
        "\n",
        "    if len(password) >= 8:\n",
        "        strength += 1\n",
        "    else:\n",
        "        feedback.append(\"Password should be at least 8 characters long.\")\n",
        "\n",
        "    if re.search(r\"[A-Z]\", password):\n",
        "        strength += 1\n",
        "    else:\n",
        "        feedback.append(\"Add at least one uppercase letter.\")\n",
        "\n",
        "    if re.search(r\"[a-z]\", password):\n",
        "        strength += 1\n",
        "    else:\n",
        "        feedback.append(\"Add at least one lowercase letter.\")\n",
        "\n",
        "    if re.search(r\"[0-9]\", password):\n",
        "        strength += 1\n",
        "    else:\n",
        "        feedback.append(\"Add at least one number.\")\n",
        "\n",
        "    if re.search(r\"[!@#$%^&*(),.?\\\":{}|<>]\", password):\n",
        "        strength += 1\n",
        "    else:\n",
        "        feedback.append(\"Add at least one special character.\")\n",
        "\n",
        "    # Check against leaked passwords\n",
        "    if password in leaked_passwords:\n",
        "        feedback.append(\"⚠️ This password has been found in data breaches! Avoid using it.\")\n",
        "        strength = max(strength - 2, 0)  # Penalize score\n",
        "\n",
        "    return strength, feedback"
      ],
      "metadata": {
        "id": "dOYAQEEM-j16"
      },
      "execution_count": 7,
      "outputs": []
    },
    {
      "cell_type": "markdown",
      "source": [
        "##🧪 Step 4: Test a Leaked Password"
      ],
      "metadata": {
        "id": "G-NOFjO0-sEQ"
      }
    },
    {
      "cell_type": "code",
      "source": [
        "test_password = \"qwarty\"\n",
        "\n",
        "score, tips = check_password_strength(test_password)\n",
        "\n",
        "print(f\"Password Score: {score} / 5\")\n",
        "print(\"Feedback:\")\n",
        "for tip in tips:\n",
        "    print(\"•\", tip)"
      ],
      "metadata": {
        "colab": {
          "base_uri": "https://localhost:8080/"
        },
        "id": "LlVlEUUs-r3B",
        "outputId": "bf253e46-7a8b-4d15-e8fc-b5149970cecd"
      },
      "execution_count": 10,
      "outputs": [
        {
          "output_type": "stream",
          "name": "stdout",
          "text": [
            "Password Score: 1 / 5\n",
            "Feedback:\n",
            "• Password should be at least 8 characters long.\n",
            "• Add at least one uppercase letter.\n",
            "• Add at least one number.\n",
            "• Add at least one special character.\n"
          ]
        }
      ]
    },
    {
      "cell_type": "markdown",
      "source": [
        "#🛠️Install Gradio in Colab"
      ],
      "metadata": {
        "id": "DCRadU14ONBP"
      }
    },
    {
      "cell_type": "code",
      "source": [
        "!pip install gradio --quiet"
      ],
      "metadata": {
        "id": "vy5C64UjOS3S"
      },
      "execution_count": 11,
      "outputs": []
    },
    {
      "cell_type": "markdown",
      "source": [
        "#Combine Everything into a Gradio App\n"
      ],
      "metadata": {
        "id": "IsRWGeDhOa4d"
      }
    },
    {
      "cell_type": "code",
      "source": [
        "import gradio as gr\n",
        "import re\n",
        "\n",
        "# Reload leaked passwords if needed\n",
        "def load_leaked_passwords():\n",
        "    with open(\"leaked_passwords.txt\", \"r\", encoding='latin-1') as file:\n",
        "        return set(line.strip() for line in file)\n",
        "\n",
        "leaked_passwords = load_leaked_passwords()\n",
        "\n",
        "# Password checker function\n",
        "def check_password_strength(password):\n",
        "    strength = 0\n",
        "    feedback = []\n",
        "\n",
        "    if len(password) >= 8:\n",
        "        strength += 1\n",
        "    else:\n",
        "        feedback.append(\"Password should be at least 8 characters long.\")\n",
        "\n",
        "    if re.search(r\"[A-Z]\", password):\n",
        "        strength += 1\n",
        "    else:\n",
        "        feedback.append(\"Add at least one uppercase letter.\")\n",
        "\n",
        "    if re.search(r\"[a-z]\", password):\n",
        "        strength += 1\n",
        "    else:\n",
        "        feedback.append(\"Add at least one lowercase letter.\")\n",
        "\n",
        "    if re.search(r\"[0-9]\", password):\n",
        "        strength += 1\n",
        "    else:\n",
        "        feedback.append(\"Add at least one number.\")\n",
        "\n",
        "    if re.search(r\"[!@#$%^&*(),.?\\\":{}|<>]\", password):\n",
        "        strength += 1\n",
        "    else:\n",
        "        feedback.append(\"Add at least one special character.\")\n",
        "\n",
        "    if password in leaked_passwords:\n",
        "        feedback.append(\"⚠️ This password has been found in data breaches!\")\n",
        "        strength = max(strength - 2, 0)\n",
        "\n",
        "    return f\"Score: {strength} / 5\", \"\\n\".join(feedback) if feedback else \"✅ Strong password!\"\n",
        "\n",
        "# Gradio UI\n",
        "interface = gr.Interface(\n",
        "    fn=check_password_strength,\n",
        "    inputs=gr.Textbox(label=\"Enter Password\", type=\"password\", placeholder=\"e.g., My$ecureP@ss123\"),\n",
        "    outputs=[\n",
        "        gr.Textbox(label=\"Strength Score\"),\n",
        "        gr.Textbox(label=\"Feedback & Suggestions\")\n",
        "    ],\n",
        "    title=\"🔐 Password Strength Analyzer\",\n",
        "    description=\"Check your password strength with real-time suggestions & breach detection.\"\n",
        ")\n",
        "\n",
        "interface.launch(share=True)\n"
      ],
      "metadata": {
        "colab": {
          "base_uri": "https://localhost:8080/",
          "height": 612
        },
        "id": "-mITK07fOes_",
        "outputId": "f0308a1d-3feb-42fc-f4e1-c6df0a4370da"
      },
      "execution_count": 12,
      "outputs": [
        {
          "output_type": "stream",
          "name": "stdout",
          "text": [
            "Colab notebook detected. To show errors in colab notebook, set debug=True in launch()\n",
            "* Running on public URL: https://944c4dd0f5b05ae65a.gradio.live\n",
            "\n",
            "This share link expires in 1 week. For free permanent hosting and GPU upgrades, run `gradio deploy` from the terminal in the working directory to deploy to Hugging Face Spaces (https://huggingface.co/spaces)\n"
          ]
        },
        {
          "output_type": "display_data",
          "data": {
            "text/plain": [
              "<IPython.core.display.HTML object>"
            ],
            "text/html": [
              "<div><iframe src=\"https://944c4dd0f5b05ae65a.gradio.live\" width=\"100%\" height=\"500\" allow=\"autoplay; camera; microphone; clipboard-read; clipboard-write;\" frameborder=\"0\" allowfullscreen></iframe></div>"
            ]
          },
          "metadata": {}
        },
        {
          "output_type": "execute_result",
          "data": {
            "text/plain": []
          },
          "metadata": {},
          "execution_count": 12
        }
      ]
    },
    {
      "cell_type": "markdown",
      "source": [
        "🔐 Built a real-time Password Strength Analyzer using Python, Gradio, and breached password data; achieved strong UI-based validation and data privacy awareness."
      ],
      "metadata": {
        "id": "DPdqOCcuO7oy"
      }
    }
  ]
}